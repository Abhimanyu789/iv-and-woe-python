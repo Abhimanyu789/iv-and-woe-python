{
 "cells": [
  {
   "cell_type": "code",
   "execution_count": 1,
   "metadata": {},
   "outputs": [],
   "source": [
    "from Features import *\n",
    "from AttributeRelevance import *"
   ]
  },
  {
   "cell_type": "code",
   "execution_count": 2,
   "metadata": {},
   "outputs": [],
   "source": [
    "import pandas as pd"
   ]
  },
  {
   "cell_type": "code",
   "execution_count": 3,
   "metadata": {},
   "outputs": [],
   "source": [
    "df = pd.read_csv('data/telco_churn.csv', na_values=[' '])\n",
    "df['label'] = df['Churn'].map({'Yes': 1, 'No': 0})"
   ]
  },
  {
   "cell_type": "code",
   "execution_count": 4,
   "metadata": {},
   "outputs": [],
   "source": [
    "feat_gender = CategoricalFeature(df, 'gender')\n",
    "feat_charges = ContinuousFeature(df, 'TotalCharges')\n",
    "feat_contract = CategoricalFeature(df, 'Contract')\n",
    "feat_tenure = ContinuousFeature(df, 'tenure')"
   ]
  },
  {
   "cell_type": "code",
   "execution_count": 5,
   "metadata": {},
   "outputs": [],
   "source": [
    "feats = [feat_gender, feat_charges, feat_contract, feat_tenure]"
   ]
  },
  {
   "cell_type": "code",
   "execution_count": 6,
   "metadata": {},
   "outputs": [],
   "source": [
    "iv = IV()\n",
    "s = StatsSignificance()"
   ]
  },
  {
   "cell_type": "code",
   "execution_count": 7,
   "metadata": {},
   "outputs": [],
   "source": [
    "ar = AttributeRelevance()"
   ]
  },
  {
   "cell_type": "code",
   "execution_count": 9,
   "metadata": {},
   "outputs": [
    {
     "data": {
      "text/html": [
       "<div>\n",
       "<style scoped>\n",
       "    .dataframe tbody tr th:only-of-type {\n",
       "        vertical-align: middle;\n",
       "    }\n",
       "\n",
       "    .dataframe tbody tr th {\n",
       "        vertical-align: top;\n",
       "    }\n",
       "\n",
       "    .dataframe thead th {\n",
       "        text-align: right;\n",
       "    }\n",
       "</style>\n",
       "<table border=\"1\" class=\"dataframe\">\n",
       "  <thead>\n",
       "    <tr style=\"text-align: right;\">\n",
       "      <th></th>\n",
       "      <th>iv</th>\n",
       "      <th>p-value</th>\n",
       "      <th>effect_size</th>\n",
       "      <th>iv_interpretation</th>\n",
       "      <th>es_interpretation</th>\n",
       "    </tr>\n",
       "  </thead>\n",
       "  <tbody>\n",
       "    <tr>\n",
       "      <th>Contract</th>\n",
       "      <td>1.238560</td>\n",
       "      <td>5.863038e-258</td>\n",
       "      <td>0.410116</td>\n",
       "      <td>suspicious</td>\n",
       "      <td>strong</td>\n",
       "    </tr>\n",
       "    <tr>\n",
       "      <th>tenure</th>\n",
       "      <td>0.852917</td>\n",
       "      <td>5.597693e-207</td>\n",
       "      <td>0.376402</td>\n",
       "      <td>suspicious</td>\n",
       "      <td>medium</td>\n",
       "    </tr>\n",
       "    <tr>\n",
       "      <th>TotalCharges</th>\n",
       "      <td>0.315230</td>\n",
       "      <td>1.027752e-94</td>\n",
       "      <td>0.253656</td>\n",
       "      <td>strong</td>\n",
       "      <td>medium</td>\n",
       "    </tr>\n",
       "    <tr>\n",
       "      <th>gender</th>\n",
       "      <td>0.000380</td>\n",
       "      <td>4.865787e-01</td>\n",
       "      <td>0.008291</td>\n",
       "      <td>useless</td>\n",
       "      <td>useless</td>\n",
       "    </tr>\n",
       "  </tbody>\n",
       "</table>\n",
       "</div>"
      ],
      "text/plain": [
       "                    iv        p-value  effect_size iv_interpretation  \\\n",
       "Contract      1.238560  5.863038e-258     0.410116        suspicious   \n",
       "tenure        0.852917  5.597693e-207     0.376402        suspicious   \n",
       "TotalCharges  0.315230   1.027752e-94     0.253656            strong   \n",
       "gender        0.000380   4.865787e-01     0.008291           useless   \n",
       "\n",
       "             es_interpretation  \n",
       "Contract                strong  \n",
       "tenure                  medium  \n",
       "TotalCharges            medium  \n",
       "gender                 useless  "
      ]
     },
     "execution_count": 9,
     "metadata": {},
     "output_type": "execute_result"
    }
   ],
   "source": [
    "ar.analyze(feats, iv, s, interpretation=True)"
   ]
  },
  {
   "cell_type": "code",
   "execution_count": 10,
   "metadata": {},
   "outputs": [
    {
     "data": {
      "image/png": "[encoded data removed]",
      "text/plain": [
       "<Figure size 720x432 with 1 Axes>"
      ]
     },
     "metadata": {
      "needs_background": "light"
     },
     "output_type": "display_data"
    },
    {
     "name": "stdout",
     "output_type": "stream",
     "text": [
      "Information value: 0.32\n",
      "Totalcharges is a strong predictor\n",
      "P-value: 0.00\n",
      "Effect size: 0.25\n",
      "Totalcharges is a medium predictor\n"
     ]
    }
   ],
   "source": [
    "iv.draw_woe(feat_charges)\n",
    "iv.print_iv(feat_charges)\n",
    "s.print_chi(feat_charges)"
   ]
  },
  {
   "cell_type": "code",
   "execution_count": null,
   "metadata": {},
   "outputs": [],
   "source": []
  }
 ],
 "metadata": {
  "kernelspec": {
   "display_name": "master",
   "language": "python",
   "name": "master"
  },
  "language_info": {
   "codemirror_mode": {
    "name": "ipython",
    "version": 3
   },
   "file_extension": ".py",
   "mimetype": "text/x-python",
   "name": "python",
   "nbconvert_exporter": "python",
   "pygments_lexer": "ipython3",
   "version": "3.7.5"
  }
 },
 "nbformat": 4,
 "nbformat_minor": 2
}
