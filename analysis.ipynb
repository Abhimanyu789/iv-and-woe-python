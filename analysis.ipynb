{
 "cells": [
  {
   "cell_type": "code",
   "execution_count": 72,
   "metadata": {},
   "outputs": [],
   "source": [
    "import pandas as pd\n",
    "from pandas.api.types import is_numeric_dtype\n",
    "\n",
    "from Features import *\n",
    "from AttributeRelevance import *"
   ]
  },
  {
   "cell_type": "code",
   "execution_count": 79,
   "metadata": {},
   "outputs": [],
   "source": [
    "pd.options.display.float_format = '{:,.2f}'.format\n",
    "pd.set_option('display.max_columns', None)  "
   ]
  },
  {
   "cell_type": "code",
   "execution_count": 93,
   "metadata": {},
   "outputs": [],
   "source": [
    "df = pd.read_csv('data/telco_churn.csv', na_values=[' '])"
   ]
  },
  {
   "cell_type": "code",
   "execution_count": 95,
   "metadata": {},
   "outputs": [],
   "source": [
    "df.columns = [c[0].lower() + c[1:] for c in df.columns]\n",
    "df['label'] = df['churn'].map({'Yes': 1, 'No': 0})\n",
    "df['seniorCitizen'] = df['seniorCitizen'].map({1: 'Yes', 0: 'No'})\n",
    "df.drop(['customerID', 'churn'], axis=1, inplace=True)"
   ]
  },
  {
   "cell_type": "code",
   "execution_count": 96,
   "metadata": {},
   "outputs": [
    {
     "data": {
      "text/html": [
       "<div>\n",
       "<style scoped>\n",
       "    .dataframe tbody tr th:only-of-type {\n",
       "        vertical-align: middle;\n",
       "    }\n",
       "\n",
       "    .dataframe tbody tr th {\n",
       "        vertical-align: top;\n",
       "    }\n",
       "\n",
       "    .dataframe thead th {\n",
       "        text-align: right;\n",
       "    }\n",
       "</style>\n",
       "<table border=\"1\" class=\"dataframe\">\n",
       "  <thead>\n",
       "    <tr style=\"text-align: right;\">\n",
       "      <th></th>\n",
       "      <th>gender</th>\n",
       "      <th>seniorCitizen</th>\n",
       "      <th>partner</th>\n",
       "      <th>dependents</th>\n",
       "      <th>tenure</th>\n",
       "      <th>phoneService</th>\n",
       "      <th>multipleLines</th>\n",
       "      <th>internetService</th>\n",
       "      <th>onlineSecurity</th>\n",
       "      <th>onlineBackup</th>\n",
       "      <th>deviceProtection</th>\n",
       "      <th>techSupport</th>\n",
       "      <th>streamingTV</th>\n",
       "      <th>streamingMovies</th>\n",
       "      <th>contract</th>\n",
       "      <th>paperlessBilling</th>\n",
       "      <th>paymentMethod</th>\n",
       "      <th>monthlyCharges</th>\n",
       "      <th>totalCharges</th>\n",
       "      <th>label</th>\n",
       "    </tr>\n",
       "  </thead>\n",
       "  <tbody>\n",
       "    <tr>\n",
       "      <th>3543</th>\n",
       "      <td>Male</td>\n",
       "      <td>No</td>\n",
       "      <td>Yes</td>\n",
       "      <td>No</td>\n",
       "      <td>72</td>\n",
       "      <td>Yes</td>\n",
       "      <td>Yes</td>\n",
       "      <td>Fiber optic</td>\n",
       "      <td>Yes</td>\n",
       "      <td>Yes</td>\n",
       "      <td>Yes</td>\n",
       "      <td>Yes</td>\n",
       "      <td>No</td>\n",
       "      <td>Yes</td>\n",
       "      <td>Two year</td>\n",
       "      <td>No</td>\n",
       "      <td>Bank transfer (automatic)</td>\n",
       "      <td>105.60</td>\n",
       "      <td>7,581.50</td>\n",
       "      <td>0</td>\n",
       "    </tr>\n",
       "    <tr>\n",
       "      <th>3918</th>\n",
       "      <td>Male</td>\n",
       "      <td>No</td>\n",
       "      <td>Yes</td>\n",
       "      <td>Yes</td>\n",
       "      <td>20</td>\n",
       "      <td>Yes</td>\n",
       "      <td>No</td>\n",
       "      <td>Fiber optic</td>\n",
       "      <td>No</td>\n",
       "      <td>No</td>\n",
       "      <td>No</td>\n",
       "      <td>No</td>\n",
       "      <td>Yes</td>\n",
       "      <td>Yes</td>\n",
       "      <td>Month-to-month</td>\n",
       "      <td>Yes</td>\n",
       "      <td>Electronic check</td>\n",
       "      <td>90.20</td>\n",
       "      <td>1,776.55</td>\n",
       "      <td>1</td>\n",
       "    </tr>\n",
       "    <tr>\n",
       "      <th>508</th>\n",
       "      <td>Female</td>\n",
       "      <td>No</td>\n",
       "      <td>Yes</td>\n",
       "      <td>Yes</td>\n",
       "      <td>6</td>\n",
       "      <td>Yes</td>\n",
       "      <td>Yes</td>\n",
       "      <td>Fiber optic</td>\n",
       "      <td>No</td>\n",
       "      <td>No</td>\n",
       "      <td>No</td>\n",
       "      <td>Yes</td>\n",
       "      <td>No</td>\n",
       "      <td>No</td>\n",
       "      <td>Month-to-month</td>\n",
       "      <td>Yes</td>\n",
       "      <td>Electronic check</td>\n",
       "      <td>80.50</td>\n",
       "      <td>502.85</td>\n",
       "      <td>1</td>\n",
       "    </tr>\n",
       "    <tr>\n",
       "      <th>1455</th>\n",
       "      <td>Female</td>\n",
       "      <td>No</td>\n",
       "      <td>Yes</td>\n",
       "      <td>No</td>\n",
       "      <td>36</td>\n",
       "      <td>Yes</td>\n",
       "      <td>Yes</td>\n",
       "      <td>Fiber optic</td>\n",
       "      <td>Yes</td>\n",
       "      <td>Yes</td>\n",
       "      <td>Yes</td>\n",
       "      <td>Yes</td>\n",
       "      <td>No</td>\n",
       "      <td>Yes</td>\n",
       "      <td>Two year</td>\n",
       "      <td>Yes</td>\n",
       "      <td>Credit card (automatic)</td>\n",
       "      <td>106.05</td>\n",
       "      <td>3,834.40</td>\n",
       "      <td>0</td>\n",
       "    </tr>\n",
       "    <tr>\n",
       "      <th>4810</th>\n",
       "      <td>Female</td>\n",
       "      <td>Yes</td>\n",
       "      <td>No</td>\n",
       "      <td>No</td>\n",
       "      <td>15</td>\n",
       "      <td>Yes</td>\n",
       "      <td>Yes</td>\n",
       "      <td>Fiber optic</td>\n",
       "      <td>No</td>\n",
       "      <td>Yes</td>\n",
       "      <td>No</td>\n",
       "      <td>No</td>\n",
       "      <td>No</td>\n",
       "      <td>Yes</td>\n",
       "      <td>Month-to-month</td>\n",
       "      <td>No</td>\n",
       "      <td>Electronic check</td>\n",
       "      <td>89.85</td>\n",
       "      <td>1,424.95</td>\n",
       "      <td>1</td>\n",
       "    </tr>\n",
       "  </tbody>\n",
       "</table>\n",
       "</div>"
      ],
      "text/plain": [
       "      gender seniorCitizen partner dependents  tenure phoneService  \\\n",
       "3543    Male            No     Yes         No      72          Yes   \n",
       "3918    Male            No     Yes        Yes      20          Yes   \n",
       "508   Female            No     Yes        Yes       6          Yes   \n",
       "1455  Female            No     Yes         No      36          Yes   \n",
       "4810  Female           Yes      No         No      15          Yes   \n",
       "\n",
       "     multipleLines internetService onlineSecurity onlineBackup  \\\n",
       "3543           Yes     Fiber optic            Yes          Yes   \n",
       "3918            No     Fiber optic             No           No   \n",
       "508            Yes     Fiber optic             No           No   \n",
       "1455           Yes     Fiber optic            Yes          Yes   \n",
       "4810           Yes     Fiber optic             No          Yes   \n",
       "\n",
       "     deviceProtection techSupport streamingTV streamingMovies        contract  \\\n",
       "3543              Yes         Yes          No             Yes        Two year   \n",
       "3918               No          No         Yes             Yes  Month-to-month   \n",
       "508                No         Yes          No              No  Month-to-month   \n",
       "1455              Yes         Yes          No             Yes        Two year   \n",
       "4810               No          No          No             Yes  Month-to-month   \n",
       "\n",
       "     paperlessBilling              paymentMethod  monthlyCharges  \\\n",
       "3543               No  Bank transfer (automatic)          105.60   \n",
       "3918              Yes           Electronic check           90.20   \n",
       "508               Yes           Electronic check           80.50   \n",
       "1455              Yes    Credit card (automatic)          106.05   \n",
       "4810               No           Electronic check           89.85   \n",
       "\n",
       "      totalCharges  label  \n",
       "3543      7,581.50      0  \n",
       "3918      1,776.55      1  \n",
       "508         502.85      1  \n",
       "1455      3,834.40      0  \n",
       "4810      1,424.95      1  "
      ]
     },
     "execution_count": 96,
     "metadata": {},
     "output_type": "execute_result"
    }
   ],
   "source": [
    "df.sample(5)"
   ]
  },
  {
   "cell_type": "code",
   "execution_count": 97,
   "metadata": {},
   "outputs": [
    {
     "name": "stdout",
     "output_type": "stream",
     "text": [
      "<class 'pandas.core.frame.DataFrame'>\n",
      "RangeIndex: 7043 entries, 0 to 7042\n",
      "Data columns (total 20 columns):\n",
      "gender              7043 non-null object\n",
      "seniorCitizen       7043 non-null object\n",
      "partner             7043 non-null object\n",
      "dependents          7043 non-null object\n",
      "tenure              7043 non-null int64\n",
      "phoneService        7043 non-null object\n",
      "multipleLines       7043 non-null object\n",
      "internetService     7043 non-null object\n",
      "onlineSecurity      7043 non-null object\n",
      "onlineBackup        7043 non-null object\n",
      "deviceProtection    7043 non-null object\n",
      "techSupport         7043 non-null object\n",
      "streamingTV         7043 non-null object\n",
      "streamingMovies     7043 non-null object\n",
      "contract            7043 non-null object\n",
      "paperlessBilling    7043 non-null object\n",
      "paymentMethod       7043 non-null object\n",
      "monthlyCharges      7043 non-null float64\n",
      "totalCharges        7032 non-null float64\n",
      "label               7043 non-null int64\n",
      "dtypes: float64(2), int64(2), object(16)\n",
      "memory usage: 1.1+ MB\n"
     ]
    }
   ],
   "source": [
    "df.info()"
   ]
  },
  {
   "cell_type": "code",
   "execution_count": 98,
   "metadata": {},
   "outputs": [],
   "source": [
    "feats_dict = {}\n",
    "\n",
    "for col in [c for c in df.columns if c != 'label']:\n",
    "    if is_numeric_dtype(df[col]):\n",
    "        feats_dict[col] = ContinuousFeature(df, col)\n",
    "    else:\n",
    "        feats_dict[col] = CategoricalFeature(df, col)\n",
    "\n",
    "feats = list(feats_dict.values())"
   ]
  },
  {
   "cell_type": "code",
   "execution_count": 75,
   "metadata": {},
   "outputs": [],
   "source": [
    "#categorical = ['gender', 'seniorCitizen', 'partner', 'dependents', 'phoneService', 'multipleLines', 'internetService', 'onlineSecurity', 'onlineBackup', 'deviceProtection', 'techSupport', 'streamingTV', 'streamingMovies', 'contract', 'paperlessBilling', 'paymentMethod']\n",
    "#continuous = ['tenure', 'monthlyCharges', 'totalCharges']"
   ]
  },
  {
   "cell_type": "code",
   "execution_count": 100,
   "metadata": {},
   "outputs": [],
   "source": [
    "iv = IV()\n",
    "s = StatsSignificance()\n",
    "\n",
    "ar = AttributeRelevance()"
   ]
  },
  {
   "cell_type": "code",
   "execution_count": 101,
   "metadata": {},
   "outputs": [
    {
     "data": {
      "text/html": [
       "<div>\n",
       "<style scoped>\n",
       "    .dataframe tbody tr th:only-of-type {\n",
       "        vertical-align: middle;\n",
       "    }\n",
       "\n",
       "    .dataframe tbody tr th {\n",
       "        vertical-align: top;\n",
       "    }\n",
       "\n",
       "    .dataframe thead th {\n",
       "        text-align: right;\n",
       "    }\n",
       "</style>\n",
       "<table border=\"1\" class=\"dataframe\">\n",
       "  <thead>\n",
       "    <tr style=\"text-align: right;\">\n",
       "      <th></th>\n",
       "      <th>iv</th>\n",
       "      <th>p-value</th>\n",
       "      <th>effect_size</th>\n",
       "      <th>iv_interpretation</th>\n",
       "      <th>es_interpretation</th>\n",
       "    </tr>\n",
       "  </thead>\n",
       "  <tbody>\n",
       "    <tr>\n",
       "      <th>contract</th>\n",
       "      <td>1.24</td>\n",
       "      <td>0.00</td>\n",
       "      <td>0.41</td>\n",
       "      <td>suspicious</td>\n",
       "      <td>strong</td>\n",
       "    </tr>\n",
       "    <tr>\n",
       "      <th>tenure</th>\n",
       "      <td>0.85</td>\n",
       "      <td>0.00</td>\n",
       "      <td>0.38</td>\n",
       "      <td>suspicious</td>\n",
       "      <td>medium</td>\n",
       "    </tr>\n",
       "    <tr>\n",
       "      <th>onlineSecurity</th>\n",
       "      <td>0.72</td>\n",
       "      <td>0.00</td>\n",
       "      <td>0.35</td>\n",
       "      <td>suspicious</td>\n",
       "      <td>medium</td>\n",
       "    </tr>\n",
       "    <tr>\n",
       "      <th>techSupport</th>\n",
       "      <td>0.70</td>\n",
       "      <td>0.00</td>\n",
       "      <td>0.34</td>\n",
       "      <td>suspicious</td>\n",
       "      <td>medium</td>\n",
       "    </tr>\n",
       "    <tr>\n",
       "      <th>internetService</th>\n",
       "      <td>0.62</td>\n",
       "      <td>0.00</td>\n",
       "      <td>0.32</td>\n",
       "      <td>suspicious</td>\n",
       "      <td>medium</td>\n",
       "    </tr>\n",
       "    <tr>\n",
       "      <th>onlineBackup</th>\n",
       "      <td>0.53</td>\n",
       "      <td>0.00</td>\n",
       "      <td>0.29</td>\n",
       "      <td>suspicious</td>\n",
       "      <td>medium</td>\n",
       "    </tr>\n",
       "    <tr>\n",
       "      <th>deviceProtection</th>\n",
       "      <td>0.50</td>\n",
       "      <td>0.00</td>\n",
       "      <td>0.28</td>\n",
       "      <td>strong</td>\n",
       "      <td>medium</td>\n",
       "    </tr>\n",
       "    <tr>\n",
       "      <th>paymentMethod</th>\n",
       "      <td>0.46</td>\n",
       "      <td>0.00</td>\n",
       "      <td>0.30</td>\n",
       "      <td>strong</td>\n",
       "      <td>medium</td>\n",
       "    </tr>\n",
       "    <tr>\n",
       "      <th>streamingMovies</th>\n",
       "      <td>0.38</td>\n",
       "      <td>0.00</td>\n",
       "      <td>0.23</td>\n",
       "      <td>strong</td>\n",
       "      <td>medium</td>\n",
       "    </tr>\n",
       "    <tr>\n",
       "      <th>streamingTV</th>\n",
       "      <td>0.38</td>\n",
       "      <td>0.00</td>\n",
       "      <td>0.23</td>\n",
       "      <td>strong</td>\n",
       "      <td>medium</td>\n",
       "    </tr>\n",
       "    <tr>\n",
       "      <th>totalCharges</th>\n",
       "      <td>0.32</td>\n",
       "      <td>0.00</td>\n",
       "      <td>0.25</td>\n",
       "      <td>strong</td>\n",
       "      <td>medium</td>\n",
       "    </tr>\n",
       "    <tr>\n",
       "      <th>paperlessBilling</th>\n",
       "      <td>0.20</td>\n",
       "      <td>0.00</td>\n",
       "      <td>0.19</td>\n",
       "      <td>medium</td>\n",
       "      <td>weak</td>\n",
       "    </tr>\n",
       "    <tr>\n",
       "      <th>monthlyCharges</th>\n",
       "      <td>0.17</td>\n",
       "      <td>0.00</td>\n",
       "      <td>0.18</td>\n",
       "      <td>medium</td>\n",
       "      <td>weak</td>\n",
       "    </tr>\n",
       "    <tr>\n",
       "      <th>dependents</th>\n",
       "      <td>0.16</td>\n",
       "      <td>0.00</td>\n",
       "      <td>0.16</td>\n",
       "      <td>medium</td>\n",
       "      <td>weak</td>\n",
       "    </tr>\n",
       "    <tr>\n",
       "      <th>partner</th>\n",
       "      <td>0.12</td>\n",
       "      <td>0.00</td>\n",
       "      <td>0.15</td>\n",
       "      <td>medium</td>\n",
       "      <td>weak</td>\n",
       "    </tr>\n",
       "    <tr>\n",
       "      <th>seniorCitizen</th>\n",
       "      <td>0.11</td>\n",
       "      <td>0.00</td>\n",
       "      <td>0.15</td>\n",
       "      <td>medium</td>\n",
       "      <td>weak</td>\n",
       "    </tr>\n",
       "    <tr>\n",
       "      <th>multipleLines</th>\n",
       "      <td>0.01</td>\n",
       "      <td>0.00</td>\n",
       "      <td>0.04</td>\n",
       "      <td>useless</td>\n",
       "      <td>useless</td>\n",
       "    </tr>\n",
       "    <tr>\n",
       "      <th>phoneService</th>\n",
       "      <td>0.00</td>\n",
       "      <td>0.34</td>\n",
       "      <td>0.01</td>\n",
       "      <td>useless</td>\n",
       "      <td>useless</td>\n",
       "    </tr>\n",
       "    <tr>\n",
       "      <th>gender</th>\n",
       "      <td>0.00</td>\n",
       "      <td>0.49</td>\n",
       "      <td>0.01</td>\n",
       "      <td>useless</td>\n",
       "      <td>useless</td>\n",
       "    </tr>\n",
       "  </tbody>\n",
       "</table>\n",
       "</div>"
      ],
      "text/plain": [
       "                   iv  p-value  effect_size iv_interpretation  \\\n",
       "contract         1.24     0.00         0.41        suspicious   \n",
       "tenure           0.85     0.00         0.38        suspicious   \n",
       "onlineSecurity   0.72     0.00         0.35        suspicious   \n",
       "techSupport      0.70     0.00         0.34        suspicious   \n",
       "internetService  0.62     0.00         0.32        suspicious   \n",
       "onlineBackup     0.53     0.00         0.29        suspicious   \n",
       "deviceProtection 0.50     0.00         0.28            strong   \n",
       "paymentMethod    0.46     0.00         0.30            strong   \n",
       "streamingMovies  0.38     0.00         0.23            strong   \n",
       "streamingTV      0.38     0.00         0.23            strong   \n",
       "totalCharges     0.32     0.00         0.25            strong   \n",
       "paperlessBilling 0.20     0.00         0.19            medium   \n",
       "monthlyCharges   0.17     0.00         0.18            medium   \n",
       "dependents       0.16     0.00         0.16            medium   \n",
       "partner          0.12     0.00         0.15            medium   \n",
       "seniorCitizen    0.11     0.00         0.15            medium   \n",
       "multipleLines    0.01     0.00         0.04           useless   \n",
       "phoneService     0.00     0.34         0.01           useless   \n",
       "gender           0.00     0.49         0.01           useless   \n",
       "\n",
       "                 es_interpretation  \n",
       "contract                    strong  \n",
       "tenure                      medium  \n",
       "onlineSecurity              medium  \n",
       "techSupport                 medium  \n",
       "internetService             medium  \n",
       "onlineBackup                medium  \n",
       "deviceProtection            medium  \n",
       "paymentMethod               medium  \n",
       "streamingMovies             medium  \n",
       "streamingTV                 medium  \n",
       "totalCharges                medium  \n",
       "paperlessBilling              weak  \n",
       "monthlyCharges                weak  \n",
       "dependents                    weak  \n",
       "partner                       weak  \n",
       "seniorCitizen                 weak  \n",
       "multipleLines              useless  \n",
       "phoneService               useless  \n",
       "gender                     useless  "
      ]
     },
     "execution_count": 101,
     "metadata": {},
     "output_type": "execute_result"
    }
   ],
   "source": [
    "ar.analyze(feats, iv, s, interpretation=True)"
   ]
  },
  {
   "cell_type": "code",
   "execution_count": 104,
   "metadata": {},
   "outputs": [],
   "source": [
    "def evaluate_feature(feature):\n",
    "    iv.draw_woe(feats_dict[feature])\n",
    "    iv.print_iv(feats_dict[feature])\n",
    "    print('')\n",
    "    s.print_chi(feats_dict[feature])"
   ]
  },
  {
   "cell_type": "code",
   "execution_count": 105,
   "metadata": {},
   "outputs": [
    {
     "data": {
      "image/png": "[encoded data removed]",
      "text/plain": [
       "<Figure size 720x432 with 1 Axes>"
      ]
     },
     "metadata": {
      "needs_background": "light"
     },
     "output_type": "display_data"
    },
    {
     "name": "stdout",
     "output_type": "stream",
     "text": [
      "Information value: 1.24\n",
      "Contract is a suspicious predictor\n",
      "\n",
      "P-value: 0.00\n",
      "Effect size: 0.41\n",
      "Contract is a strong predictor\n"
     ]
    }
   ],
   "source": [
    "evaluate_feature('contract')"
   ]
  },
  {
   "cell_type": "code",
   "execution_count": 106,
   "metadata": {},
   "outputs": [
    {
     "data": {
      "image/png": "[encoded data removed]",
      "text/plain": [
       "<Figure size 720x432 with 1 Axes>"
      ]
     },
     "metadata": {
      "needs_background": "light"
     },
     "output_type": "display_data"
    },
    {
     "name": "stdout",
     "output_type": "stream",
     "text": [
      "Information value: 0.85\n",
      "Tenure is a suspicious predictor\n",
      "\n",
      "P-value: 0.00\n",
      "Effect size: 0.38\n",
      "Tenure is a medium predictor\n"
     ]
    }
   ],
   "source": [
    "evaluate_feature('tenure')"
   ]
  },
  {
   "cell_type": "code",
   "execution_count": 109,
   "metadata": {},
   "outputs": [
    {
     "data": {
      "image/png": "[encoded data removed]",
      "text/plain": [
       "<Figure size 720x432 with 1 Axes>"
      ]
     },
     "metadata": {
      "needs_background": "light"
     },
     "output_type": "display_data"
    },
    {
     "name": "stdout",
     "output_type": "stream",
     "text": [
      "Information value: 0.46\n",
      "Paymentmethod is a strong predictor\n",
      "\n",
      "P-value: 0.00\n",
      "Effect size: 0.30\n",
      "Paymentmethod is a medium predictor\n"
     ]
    }
   ],
   "source": [
    "evaluate_feature('paymentMethod')"
   ]
  },
  {
   "cell_type": "code",
   "execution_count": 111,
   "metadata": {},
   "outputs": [
    {
     "data": {
      "text/html": [
       "<div>\n",
       "<style scoped>\n",
       "    .dataframe tbody tr th:only-of-type {\n",
       "        vertical-align: middle;\n",
       "    }\n",
       "\n",
       "    .dataframe tbody tr th {\n",
       "        vertical-align: top;\n",
       "    }\n",
       "\n",
       "    .dataframe thead th {\n",
       "        text-align: right;\n",
       "    }\n",
       "</style>\n",
       "<table border=\"1\" class=\"dataframe\">\n",
       "  <thead>\n",
       "    <tr style=\"text-align: right;\">\n",
       "      <th></th>\n",
       "      <th>paymentMethod</th>\n",
       "      <th>count</th>\n",
       "      <th>good</th>\n",
       "      <th>bad</th>\n",
       "    </tr>\n",
       "  </thead>\n",
       "  <tbody>\n",
       "    <tr>\n",
       "      <th>0</th>\n",
       "      <td>Bank transfer (automatic)</td>\n",
       "      <td>1544</td>\n",
       "      <td>258</td>\n",
       "      <td>1286</td>\n",
       "    </tr>\n",
       "    <tr>\n",
       "      <th>1</th>\n",
       "      <td>Credit card (automatic)</td>\n",
       "      <td>1522</td>\n",
       "      <td>232</td>\n",
       "      <td>1290</td>\n",
       "    </tr>\n",
       "    <tr>\n",
       "      <th>2</th>\n",
       "      <td>Electronic check</td>\n",
       "      <td>2365</td>\n",
       "      <td>1071</td>\n",
       "      <td>1294</td>\n",
       "    </tr>\n",
       "    <tr>\n",
       "      <th>3</th>\n",
       "      <td>Mailed check</td>\n",
       "      <td>1612</td>\n",
       "      <td>308</td>\n",
       "      <td>1304</td>\n",
       "    </tr>\n",
       "  </tbody>\n",
       "</table>\n",
       "</div>"
      ],
      "text/plain": [
       "               paymentMethod  count  good   bad\n",
       "0  Bank transfer (automatic)   1544   258  1286\n",
       "1    Credit card (automatic)   1522   232  1290\n",
       "2           Electronic check   2365  1071  1294\n",
       "3               Mailed check   1612   308  1304"
      ]
     },
     "execution_count": 111,
     "metadata": {},
     "output_type": "execute_result"
    }
   ],
   "source": [
    "iv.group_by_feature(feats_dict['paymentMethod'])"
   ]
  },
  {
   "cell_type": "code",
   "execution_count": 116,
   "metadata": {},
   "outputs": [
    {
     "data": {
      "image/png": "[encoded data removed]",
      "text/plain": [
       "<Figure size 720x432 with 1 Axes>"
      ]
     },
     "metadata": {
      "needs_background": "light"
     },
     "output_type": "display_data"
    },
    {
     "name": "stdout",
     "output_type": "stream",
     "text": [
      "Information value: 0.17\n",
      "Monthlycharges is a medium predictor\n",
      "\n",
      "P-value: 0.00\n",
      "Effect size: 0.18\n",
      "Monthlycharges is a weak predictor\n"
     ]
    }
   ],
   "source": [
    "evaluate_feature('monthlyCharges')"
   ]
  },
  {
   "cell_type": "markdown",
   "metadata": {},
   "source": [
    "* customerIDCustomer ID\n",
    "* genderWhether the customer is a male or a female\n",
    "* SeniorCitizenWhether the customer is a senior citizen or not (1, 0)\n",
    "* PartnerWhether the customer has a partner or not (Yes, No)\n",
    "* DependentsWhether the customer has dependents or not (Yes, No)\n",
    "* tenureNumber of months the customer has stayed with the company\n",
    "* PhoneServiceWhether the customer has a phone service or not (Yes, No)\n",
    "* MultipleLinesWhether the customer has multiple lines or not (Yes, No, No phone service)\n",
    "* InternetServiceCustomer’s internet service provider (DSL, Fiber optic, No)\n",
    "* OnlineSecurityWhether the customer has online security or not (Yes, No, No internet service)\n",
    "* OnlineBackupWhether the customer has online backup or not (Yes, No, No internet service)\n",
    "* DeviceProtectionWhether the customer has device protection or not (Yes, No, No internet service)\n",
    "* TechSupportWhether the customer has tech support or not (Yes, No, No internet service)\n",
    "* StreamingTVWhether the customer has streaming TV or not (Yes, No, No internet service)\n",
    "* StreamingMoviesWhether the customer has streaming movies or not (Yes, No, No internet service)\n",
    "* ContractThe contract term of the customer (Month-to-month, One year, Two year)\n",
    "* PaperlessBillingWhether the customer has paperless billing or not (Yes, No)\n",
    "* PaymentMethodThe customer’s payment method (Electronic check, Mailed check, Bank transfer (automatic), Credit card (automatic))\n",
    "* MonthlyChargesThe amount charged to the customer monthly\n",
    "* TotalChargesThe total amount charged to the customer\n",
    "* ChurnWhether the customer churned or not (Yes or No)"
   ]
  },
  {
   "cell_type": "code",
   "execution_count": null,
   "metadata": {},
   "outputs": [],
   "source": []
  }
 ],
 "metadata": {
  "kernelspec": {
   "display_name": "master",
   "language": "python",
   "name": "master"
  },
  "language_info": {
   "codemirror_mode": {
    "name": "ipython",
    "version": 3
   },
   "file_extension": ".py",
   "mimetype": "text/x-python",
   "name": "python",
   "nbconvert_exporter": "python",
   "pygments_lexer": "ipython3",
   "version": "3.7.5"
  }
 },
 "nbformat": 4,
 "nbformat_minor": 2
}
